{
  "nbformat": 4,
  "nbformat_minor": 0,
  "metadata": {
    "colab": {
      "provenance": [],
      "toc_visible": true,
      "gpuType": "T4",
      "include_colab_link": true
    },
    "kernelspec": {
      "name": "python3",
      "display_name": "Python 3"
    }
  },
  "cells": [
    {
      "cell_type": "markdown",
      "metadata": {
        "id": "view-in-github",
        "colab_type": "text"
      },
      "source": [
        "<a href=\"https://colab.research.google.com/github/sedaoturak/Quantum_Espresso_Colab/blob/main/Quantum_Espresso_Colab.ipynb\" target=\"_parent\"><img src=\"https://colab.research.google.com/assets/colab-badge.svg\" alt=\"Open In Colab\"/></a>"
      ]
    },
    {
      "cell_type": "markdown",
      "metadata": {
        "id": "IJD9ZrhUbG8g"
      },
      "source": [
        "# Install the Quantum Espresso Binary"
      ]
    },
    {
      "cell_type": "code",
      "metadata": {
        "id": "7imWdEV1V-Fg"
      },
      "source": [
        "%%capture\n",
        "# Clone the QE git\n",
        "!git clone https://github.com/QEF/q-e.git\n",
        "# Install the dependencies\n",
        "!apt-get install -y libfftw3-3 libfftw3-dev libfftw3-doc\n",
        "# enter the q-e folder\n",
        "%cd q-e\n",
        "# run the configure file\n",
        "!DFLAGS='-D__OPENMP -D__FFTW3 -D__MPI -D__SCALAPACK' FFT_LIBS='-lfftw3'  ./configure --enable-openmp\n",
        "# computation time ~1 minute"
      ],
      "execution_count": 1,
      "outputs": []
    },
    {
      "cell_type": "markdown",
      "source": [
        "Install `ase` for preparing input files, reading output files and visualization"
      ],
      "metadata": {
        "id": "E5v-b5UXKltX"
      }
    },
    {
      "cell_type": "code",
      "source": [
        "%%capture\n",
        "!apt install ase #computation time ~30 seconds"
      ],
      "metadata": {
        "id": "STM7dA3yKJb2"
      },
      "execution_count": 2,
      "outputs": []
    },
    {
      "cell_type": "markdown",
      "metadata": {
        "id": "l-nZcqsubveu"
      },
      "source": [
        "Run the cell to make `pw.x` binary\n",
        "If you need to make any other binary like `dos.x` or `bands.x`. Replace the `pw` with `dos` or `bands`"
      ]
    },
    {
      "cell_type": "code",
      "metadata": {
        "id": "nwarCLtjWgmd"
      },
      "source": [
        "%%capture \n",
        "!make pw #computation time ~5-7 minutes"
      ],
      "execution_count": 3,
      "outputs": []
    },
    {
      "cell_type": "markdown",
      "metadata": {
        "id": "M4TVSZEPcogl"
      },
      "source": [
        "Create a folder named \"silicon\" to download and keep all the files needed including the input files and pseudopotential files.\n",
        "\n",
        "After creating the folder, upload the pseudopotential file in this folder."
      ]
    },
    {
      "cell_type": "code",
      "metadata": {
        "id": "r90LCXv1ZydE",
        "outputId": "a20294b6-3d83-4332-abe2-a5aab3135854",
        "colab": {
          "base_uri": "https://localhost:8080/"
        }
      },
      "source": [
        "# Navigating into your folder.\n",
        "%cd /content/silicon/ "
      ],
      "execution_count": 4,
      "outputs": [
        {
          "output_type": "stream",
          "name": "stdout",
          "text": [
            "/content/silicon\n"
          ]
        }
      ]
    },
    {
      "cell_type": "markdown",
      "source": [
        "# Prepare the input file"
      ],
      "metadata": {
        "id": "4yG2DhuXKDeU"
      }
    },
    {
      "cell_type": "code",
      "source": [
        "qe_input = \"\"\"\n",
        " &control\n",
        "    prefix='silicon',\n",
        "    ! this is a comment: you can comment out variables\n",
        "    ! set pseudo_dir and outdir to suitable directories\n",
        "    pseudo_dir = '/content/silicon/',\n",
        "    outdir='/content/silicon/'\n",
        " /\n",
        " &system    \n",
        "    ibrav=  2, celldm(1) =10.7, nat=  2, ntyp= 1,\n",
        "    ecutwfc = 30.0, \n",
        " /\n",
        " &electrons\n",
        " /\n",
        "ATOMIC_SPECIES\n",
        " Si  28.086  Si.pz-vbc.UPF\n",
        "ATOMIC_POSITIONS alat\n",
        " Si 0.00 0.00 0.00 \n",
        " Si 0.25 0.25 0.25 \n",
        "! this is a comment \n",
        "K_POINTS automatic\n",
        "# this is also a comment \n",
        "   4 4 4 1 1 1\n",
        "\"\"\"\n",
        "\n",
        "# We write the input script\n",
        "with open(\"si.scf.in\", \"w\") as f:\n",
        "    f.write(qe_input)"
      ],
      "metadata": {
        "id": "tTUnqAgSKF0i"
      },
      "execution_count": 5,
      "outputs": []
    },
    {
      "cell_type": "markdown",
      "source": [
        "Visualize the silicon atoms"
      ],
      "metadata": {
        "id": "ruEqTitAWQ-j"
      }
    },
    {
      "cell_type": "code",
      "source": [
        "from ase import Atoms\n",
        "from ase.visualize import view\n",
        "input_file = ase.io.espresso.read_espresso_in('si.scf.in')\n",
        "\n",
        "atoms = Atoms(input_file)\n",
        "view(atoms,viewer='x3d')"
      ],
      "metadata": {
        "colab": {
          "base_uri": "https://localhost:8080/",
          "height": 485
        },
        "id": "oaciRbpOSxm3",
        "outputId": "bf6c96c3-7e14-4335-d0eb-48b26b3a48c1"
      },
      "execution_count": 97,
      "outputs": [
        {
          "output_type": "execute_result",
          "data": {
            "text/plain": [
              "<IPython.core.display.HTML object>"
            ],
            "text/html": [
              "<html>\n",
              "\n",
              " <head>\n",
              "\n",
              "  <title>ASE atomic visualization</title>\n",
              "\n",
              "  <link rel=\"stylesheet\" type=\"text/css\"\n",
              "\n",
              "   href=\"https://www.x3dom.org/x3dom/release/x3dom.css\">\n",
              "\n",
              "  </link>\n",
              "\n",
              "  <script type=\"text/javascript\"\n",
              "\n",
              "   src=\"https://www.x3dom.org/x3dom/release/x3dom.js\">\n",
              "\n",
              "  </script>\n",
              "\n",
              " </head>\n",
              "\n",
              " <body>\n",
              "\n",
              "  <X3D style=\"margin:0; padding:0; width:100%; height:100%; border:none;\">\n",
              "\n",
              "   <Scene>\n",
              "\n",
              "    <Transform translation=\"0.00 0.00 0.00\">\n",
              "\n",
              "     <Shape>\n",
              "\n",
              "      <Appearance>\n",
              "\n",
              "       <Material diffuseColor=\"0.941 0.784 0.627\" specularColor=\"0.5 0.5 0.5\">\n",
              "\n",
              "       </Material>\n",
              "\n",
              "      </Appearance>\n",
              "\n",
              "      <Sphere radius=\"1.11\">\n",
              "\n",
              "      </Sphere>\n",
              "\n",
              "     </Shape>\n",
              "\n",
              "    </Transform>\n",
              "\n",
              "    <Transform translation=\"1.42 1.42 1.42\">\n",
              "\n",
              "     <Shape>\n",
              "\n",
              "      <Appearance>\n",
              "\n",
              "       <Material diffuseColor=\"0.941 0.784 0.627\" specularColor=\"0.5 0.5 0.5\">\n",
              "\n",
              "       </Material>\n",
              "\n",
              "      </Appearance>\n",
              "\n",
              "      <Sphere radius=\"1.11\">\n",
              "\n",
              "      </Sphere>\n",
              "\n",
              "     </Shape>\n",
              "\n",
              "    </Transform>\n",
              "\n",
              "   </Scene>\n",
              "\n",
              "  </X3D>\n",
              "\n",
              " </body>\n",
              "\n",
              "</html>\n",
              "\n"
            ]
          },
          "metadata": {},
          "execution_count": 97
        }
      ]
    },
    {
      "cell_type": "code",
      "source": [
        "import matplotlib.pyplot as plt\n",
        "from ase.visualize.plot import plot_atoms\n",
        "\n",
        "fig, ax = plt.subplots()\n",
        "plot_atoms(atoms, ax, radii=0.3, rotation=('45x,45y,90z'))\n",
        "ax.set_title(atoms.get_chemical_formula())\n",
        "ax.set_axis_off()\n",
        "plt.show()"
      ],
      "metadata": {
        "colab": {
          "base_uri": "https://localhost:8080/",
          "height": 428
        },
        "id": "2YOlbDl3S-ai",
        "outputId": "a51be8ed-8096-4248-ed1a-7b6e11c9c740"
      },
      "execution_count": 109,
      "outputs": [
        {
          "output_type": "display_data",
          "data": {
            "text/plain": [
              "<Figure size 640x480 with 1 Axes>"
            ],
            "image/png": "[encoded data removed]"
          },
          "metadata": {}
        }
      ]
    },
    {
      "cell_type": "markdown",
      "metadata": {
        "id": "RDx8cJlddYA6"
      },
      "source": [
        "# Run the DFT code\n",
        "\n",
        "Note: Check the directories for pseudopotential file and output file!"
      ]
    },
    {
      "cell_type": "code",
      "metadata": {
        "id": "WTOSK0QvZ0s8"
      },
      "source": [
        "! /content/q-e/bin/pw.x  -in si.scf.in > si.scf.out"
      ],
      "execution_count": 6,
      "outputs": []
    },
    {
      "cell_type": "markdown",
      "metadata": {
        "id": "7CvqvzNsdfTe"
      },
      "source": [
        "# See the output file"
      ]
    },
    {
      "cell_type": "code",
      "metadata": {
        "id": "xiIzqeKbanJu",
        "colab": {
          "base_uri": "https://localhost:8080/"
        },
        "outputId": "98c78f67-5eab-4567-d4bf-68c481d303f8"
      },
      "source": [
        "!cat si.scf.out"
      ],
      "execution_count": 7,
      "outputs": [
        {
          "output_type": "stream",
          "name": "stdout",
          "text": [
            "\n",
            "     Program PWSCF v.7.2 starts on 10Jun2023 at 12: 6:58 \n",
            "\n",
            "     This program is part of the open-source Quantum ESPRESSO suite\n",
            "     for quantum simulation of materials; please cite\n",
            "         \"P. Giannozzi et al., J. Phys.:Condens. Matter 21 395502 (2009);\n",
            "         \"P. Giannozzi et al., J. Phys.:Condens. Matter 29 465901 (2017);\n",
            "         \"P. Giannozzi et al., J. Chem. Phys. 152 154105 (2020);\n",
            "          URL http://www.quantum-espresso.org\", \n",
            "     in publications or presentations arising from this work. More details at\n",
            "     http://www.quantum-espresso.org/quote\n",
            "\n",
            "     Parallel version (MPI & OpenMP), running on       2 processor cores\n",
            "     Number of MPI processes:                 1\n",
            "     Threads/MPI process:                     2\n",
            "\n",
            "     MPI processes distributed on     1 nodes\n",
            "     7416 MiB available memory on the printing compute node when the environment starts\n",
            "\n",
            "     Reading input from si.scf.in\n",
            "\n",
            "     Current dimensions of program PWSCF are:\n",
            "     Max number of different atomic species (ntypx) = 10\n",
            "     Max number of k-points (npk) =  40000\n",
            "     Max angular momentum in pseudopotentials (lmaxx) =  4\n",
            "\n",
            "     Subspace diagonalization in iterative solution of the eigenvalue problem:\n",
            "     a serial algorithm will be used\n",
            "\n",
            "\n",
            "     G-vector sticks info\n",
            "     --------------------\n",
            "     sticks:   dense  smooth     PW     G-vecs:    dense   smooth      PW\n",
            "     Sum         475     475    151                 6855     6855    1243\n",
            "\n",
            "     Using Slab Decomposition\n",
            "\n",
            "\n",
            "\n",
            "     bravais-lattice index     =            2\n",
            "     lattice parameter (alat)  =      10.7000  a.u.\n",
            "     unit-cell volume          =     306.2607 (a.u.)^3\n",
            "     number of atoms/cell      =            2\n",
            "     number of atomic types    =            1\n",
            "     number of electrons       =         8.00\n",
            "     number of Kohn-Sham states=            4\n",
            "     kinetic-energy cutoff     =      30.0000  Ry\n",
            "     charge density cutoff     =     120.0000  Ry\n",
            "     scf convergence threshold =      1.0E-06\n",
            "     mixing beta               =       0.7000\n",
            "     number of iterations used =            8  plain     mixing\n",
            "     Exchange-correlation=  SLA  PZ   NOGX NOGC\n",
            "                           (   1   1   0   0   0   0   0)\n",
            "\n",
            "     celldm(1)=  10.700000  celldm(2)=   0.000000  celldm(3)=   0.000000\n",
            "     celldm(4)=   0.000000  celldm(5)=   0.000000  celldm(6)=   0.000000\n",
            "\n",
            "     crystal axes: (cart. coord. in units of alat)\n",
            "               a(1) = (  -0.500000   0.000000   0.500000 )  \n",
            "               a(2) = (   0.000000   0.500000   0.500000 )  \n",
            "               a(3) = (  -0.500000   0.500000   0.000000 )  \n",
            "\n",
            "     reciprocal axes: (cart. coord. in units 2 pi/alat)\n",
            "               b(1) = ( -1.000000 -1.000000  1.000000 )  \n",
            "               b(2) = (  1.000000  1.000000  1.000000 )  \n",
            "               b(3) = ( -1.000000  1.000000 -1.000000 )  \n",
            "\n",
            "\n",
            "     PseudoPot. # 1 for Si read from file:\n",
            "     /content/silicon/Si.pz-vbc.UPF\n",
            "     MD5 check sum: 6dfa03ddd5817404712e03e4d12deb78\n",
            "     Pseudo is Norm-conserving, Zval =  4.0\n",
            "     Generated by new atomic code, or converted to UPF format\n",
            "     Using radial grid of  431 points,  2 beta functions with: \n",
            "                l(1) =   0\n",
            "                l(2) =   1\n",
            "\n",
            "     atomic species   valence    mass     pseudopotential\n",
            "        Si             4.00    28.08600     Si( 1.00)\n",
            "\n",
            "     48 Sym. Ops., with inversion, found (24 have fractional translation)\n",
            "\n",
            "\n",
            "\n",
            "   Cartesian axes\n",
            "\n",
            "     site n.     atom                  positions (alat units)\n",
            "         1           Si  tau(   1) = (   0.0000000   0.0000000   0.0000000  )\n",
            "         2           Si  tau(   2) = (   0.2500000   0.2500000   0.2500000  )\n",
            "\n",
            "     number of k points=    10\n",
            "                       cart. coord. in units 2pi/alat\n",
            "        k(    1) = (  -0.1250000   0.1250000   0.1250000), wk =   0.0625000\n",
            "        k(    2) = (  -0.3750000   0.3750000  -0.1250000), wk =   0.1875000\n",
            "        k(    3) = (   0.3750000  -0.3750000   0.6250000), wk =   0.1875000\n",
            "        k(    4) = (   0.1250000  -0.1250000   0.3750000), wk =   0.1875000\n",
            "        k(    5) = (  -0.1250000   0.6250000   0.1250000), wk =   0.1875000\n",
            "        k(    6) = (   0.6250000  -0.1250000   0.8750000), wk =   0.3750000\n",
            "        k(    7) = (   0.3750000   0.1250000   0.6250000), wk =   0.3750000\n",
            "        k(    8) = (  -0.1250000  -0.8750000   0.1250000), wk =   0.1875000\n",
            "        k(    9) = (  -0.3750000   0.3750000   0.3750000), wk =   0.0625000\n",
            "        k(   10) = (   0.3750000  -0.3750000   1.1250000), wk =   0.1875000\n",
            "\n",
            "     Dense  grid:     6855 G-vectors     FFT dimensions: (  32,  32,  32)\n",
            "\n",
            "     Estimated max dynamical RAM per process >       6.06 MB\n",
            "\n",
            "     Initial potential from superposition of free atoms\n",
            "\n",
            "     starting charge       7.9990, renormalised to       8.0000\n",
            "     Starting wfcs are    8 randomized atomic wfcs\n",
            "\n",
            "     total cpu time spent up to now is        1.1 secs\n",
            "\n",
            "     Self-consistent Calculation\n",
            "\n",
            "     iteration #  1     ecut=    30.00 Ry     beta= 0.70\n",
            "     Davidson diagonalization with overlap\n",
            "     ethr =  1.00E-02,  avg # of iterations =  2.0\n",
            "\n",
            "     Threshold (ethr) on eigenvalues was too large:\n",
            "     Diagonalizing with lowered threshold\n",
            "\n",
            "     Davidson diagonalization with overlap\n",
            "     ethr =  5.33E-04,  avg # of iterations =  1.2\n",
            "\n",
            "     total cpu time spent up to now is        1.2 secs\n",
            "\n",
            "     total energy              =     -15.83474059 Ry\n",
            "     estimated scf accuracy    <       0.04725160 Ry\n",
            "\n",
            "     iteration #  2     ecut=    30.00 Ry     beta= 0.70\n",
            "     Davidson diagonalization with overlap\n",
            "     ethr =  5.91E-04,  avg # of iterations =  1.0\n",
            "\n",
            "     total cpu time spent up to now is        1.3 secs\n",
            "\n",
            "     total energy              =     -15.83654591 Ry\n",
            "     estimated scf accuracy    <       0.00215073 Ry\n",
            "\n",
            "     iteration #  3     ecut=    30.00 Ry     beta= 0.70\n",
            "     Davidson diagonalization with overlap\n",
            "     ethr =  2.69E-05,  avg # of iterations =  2.0\n",
            "\n",
            "     total cpu time spent up to now is        1.4 secs\n",
            "\n",
            "     total energy              =     -15.83684221 Ry\n",
            "     estimated scf accuracy    <       0.00004787 Ry\n",
            "\n",
            "     iteration #  4     ecut=    30.00 Ry     beta= 0.70\n",
            "     Davidson diagonalization with overlap\n",
            "     ethr =  5.98E-07,  avg # of iterations =  4.6\n",
            "\n",
            "     total cpu time spent up to now is        1.5 secs\n",
            "\n",
            "     End of self-consistent calculation\n",
            "\n",
            "          k =-0.1250 0.1250 0.1250 (   869 PWs)   bands (ev):\n",
            "\n",
            "    -6.1213   3.2226   4.5596   4.5596\n",
            "\n",
            "          k =-0.3750 0.3750-0.1250 (   850 PWs)   bands (ev):\n",
            "\n",
            "    -5.1874   0.4103   2.7322   4.1080\n",
            "\n",
            "          k = 0.3750-0.3750 0.6250 (   846 PWs)   bands (ev):\n",
            "\n",
            "    -4.1727  -1.4595   2.7099   3.4135\n",
            "\n",
            "          k = 0.1250-0.1250 0.3750 (   860 PWs)   bands (ev):\n",
            "\n",
            "    -5.6397   1.6619   3.6523   3.6608\n",
            "\n",
            "          k =-0.1250 0.6250 0.1250 (   847 PWs)   bands (ev):\n",
            "\n",
            "    -4.7001   0.0117   2.4358   2.8523\n",
            "\n",
            "          k = 0.6250-0.1250 0.8750 (   847 PWs)   bands (ev):\n",
            "\n",
            "    -3.2265  -1.7944   1.2301   2.2059\n",
            "\n",
            "          k = 0.3750 0.1250 0.6250 (   850 PWs)   bands (ev):\n",
            "\n",
            "    -4.3301  -0.7407   1.8325   3.1018\n",
            "\n",
            "          k =-0.1250-0.8750 0.1250 (   843 PWs)   bands (ev):\n",
            "\n",
            "    -3.3619  -1.7154   1.7798   2.4224\n",
            "\n",
            "          k =-0.3750 0.3750 0.3750 (   851 PWs)   bands (ev):\n",
            "\n",
            "    -4.8006  -0.7325   3.8293   3.8293\n",
            "\n",
            "          k = 0.3750-0.3750 1.1250 (   843 PWs)   bands (ev):\n",
            "\n",
            "    -3.7197  -1.4607   1.2532   3.1293\n",
            "\n",
            "     highest occupied level (ev):     4.5596\n",
            "\n",
            "!    total energy              =     -15.83687864 Ry\n",
            "     estimated scf accuracy    <       0.00000003 Ry\n",
            "\n",
            "     The total energy is the sum of the following terms:\n",
            "     one-electron contribution =       3.73846185 Ry\n",
            "     hartree contribution      =       1.20144615 Ry\n",
            "     xc contribution           =      -4.66673637 Ry\n",
            "     ewald contribution        =     -16.11005026 Ry\n",
            "\n",
            "     convergence has been achieved in   4 iterations\n",
            "\n",
            "     Writing all to output data dir /content/silicon/silicon.save/\n",
            "\n",
            "     init_run     :      0.93s CPU      1.01s WALL (       1 calls)\n",
            "     electrons    :      0.73s CPU      0.39s WALL (       1 calls)\n",
            "\n",
            "     Called by init_run:\n",
            "     wfcinit      :      0.57s CPU      0.64s WALL (       1 calls)\n",
            "     potinit      :      0.09s CPU      0.09s WALL (       1 calls)\n",
            "     hinit0       :      0.26s CPU      0.26s WALL (       1 calls)\n",
            "\n",
            "     Called by electrons:\n",
            "     c_bands      :      0.59s CPU      0.31s WALL (       5 calls)\n",
            "     sum_band     :      0.11s CPU      0.06s WALL (       5 calls)\n",
            "     v_of_rho     :      0.07s CPU      0.06s WALL (       5 calls)\n",
            "     mix_rho      :      0.01s CPU      0.01s WALL (       5 calls)\n",
            "\n",
            "     Called by c_bands:\n",
            "     init_us_2    :      0.03s CPU      0.03s WALL (     110 calls)\n",
            "     init_us_2:cp :      0.03s CPU      0.03s WALL (     110 calls)\n",
            "     cegterg      :      0.56s CPU      0.30s WALL (      50 calls)\n",
            "\n",
            "     Called by *egterg:\n",
            "     cdiaghg      :      0.03s CPU      0.12s WALL (     148 calls)\n",
            "     h_psi        :      1.02s CPU      0.76s WALL (     168 calls)\n",
            "     g_psi        :      0.00s CPU      0.00s WALL (     108 calls)\n",
            "\n",
            "     Called by h_psi:\n",
            "     h_psi:calbec :      0.03s CPU      0.03s WALL (     168 calls)\n",
            "     vloc_psi     :      0.97s CPU      0.71s WALL (     168 calls)\n",
            "     add_vuspsi   :      0.01s CPU      0.00s WALL (     168 calls)\n",
            "\n",
            "     General routines\n",
            "     calbec       :      0.03s CPU      0.03s WALL (     168 calls)\n",
            "     fft          :      0.21s CPU      0.22s WALL (      15 calls)\n",
            "     ffts         :      0.00s CPU      0.00s WALL (       5 calls)\n",
            "     fftw         :      0.68s CPU      0.42s WALL (    1426 calls)\n",
            "\n",
            "     Parallel routines\n",
            "\n",
            "     PWSCF        :      1.71s CPU      1.50s WALL\n",
            "\n",
            "\n",
            "   This run was terminated on:  12: 6:59  10Jun2023            \n",
            "\n",
            "=------------------------------------------------------------------------------=\n",
            "   JOB DONE.\n",
            "=------------------------------------------------------------------------------=\n"
          ]
        }
      ]
    },
    {
      "cell_type": "code",
      "source": [
        "!grep -e \"total energy\" -e estimate si.scf.out"
      ],
      "metadata": {
        "colab": {
          "base_uri": "https://localhost:8080/"
        },
        "id": "nAwPVzJe9tdd",
        "outputId": "280c406b-35ee-4be9-bbaa-e970ee34f604"
      },
      "execution_count": 8,
      "outputs": [
        {
          "output_type": "stream",
          "name": "stdout",
          "text": [
            "     total energy              =     -15.83474059 Ry\n",
            "     estimated scf accuracy    <       0.04725160 Ry\n",
            "     total energy              =     -15.83654591 Ry\n",
            "     estimated scf accuracy    <       0.00215073 Ry\n",
            "     total energy              =     -15.83684221 Ry\n",
            "     estimated scf accuracy    <       0.00004787 Ry\n",
            "!    total energy              =     -15.83687864 Ry\n",
            "     estimated scf accuracy    <       0.00000003 Ry\n",
            "     The total energy is the sum of the following terms:\n"
          ]
        }
      ]
    },
    {
      "cell_type": "code",
      "source": [
        "import ase.io\n",
        "output = ase.io.read(\"/content/silicon/si.scf.out\")\n",
        "output.get_total_energy()"
      ],
      "metadata": {
        "colab": {
          "base_uri": "https://localhost:8080/"
        },
        "id": "IBqyzjpaBNbm",
        "outputId": "69156d3f-de99-4c73-d6b7-aa0ce3b767f8"
      },
      "execution_count": 10,
      "outputs": [
        {
          "output_type": "execute_result",
          "data": {
            "text/plain": [
              "-215.47169195270104"
            ]
          },
          "metadata": {},
          "execution_count": 10
        }
      ]
    },
    {
      "cell_type": "markdown",
      "source": [
        "# Convergence test"
      ],
      "metadata": {
        "id": "manDJrzjQWeT"
      }
    },
    {
      "cell_type": "code",
      "source": [
        "import numpy as np\n",
        "cutoff_energies = np.arange(20,110,10)\n",
        "cutoff_index = qe_input.find('ecutwfc = ') + 10\n",
        "total_energies = []\n",
        "for cutoff in cutoff_energies:\n",
        "  new_input_file = qe_input[:cutoff_index] + str(cutoff) + qe_input[cutoff_index+4:]\n",
        "  with open(\"si.scf.in\", \"w\") as f:\n",
        "    f.write(new_input_file)\n",
        "  ! /content/q-e/bin/pw.x  -in si.scf.in > si.scf.out\n",
        "  output = ase.io.read(\"/content/silicon/si.scf.out\")\n",
        "  total_energies.append(output.get_total_energy())\n",
        "\n",
        "# computation time: 40 seconds"
      ],
      "metadata": {
        "id": "CnIKktP3QpeR"
      },
      "execution_count": 116,
      "outputs": []
    },
    {
      "cell_type": "code",
      "source": [
        "import matplotlib.pyplot as plt\n",
        "\n",
        "plt.plot(cutoff_energies, total_energies,'o-')"
      ],
      "metadata": {
        "colab": {
          "base_uri": "https://localhost:8080/",
          "height": 462
        },
        "id": "djzmRSCwRL3T",
        "outputId": "ddba9771-b861-4c7f-bade-71f5e33253bd"
      },
      "execution_count": 117,
      "outputs": [
        {
          "output_type": "execute_result",
          "data": {
            "text/plain": [
              "[<matplotlib.lines.Line2D at 0x7f639a3230a0>]"
            ]
          },
          "metadata": {},
          "execution_count": 117
        },
        {
          "output_type": "display_data",
          "data": {
            "text/plain": [
              "<Figure size 640x480 with 1 Axes>"
            ],
            "image/png": "[encoded data removed]"
          },
          "metadata": {}
        }
      ]
    },
    {
      "cell_type": "code",
      "source": [],
      "metadata": {
        "id": "BA5i5nJPRZBN"
      },
      "execution_count": null,
      "outputs": []
    }
  ]
}