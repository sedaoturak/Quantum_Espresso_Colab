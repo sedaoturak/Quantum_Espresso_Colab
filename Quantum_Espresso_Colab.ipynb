{
  "nbformat": 4,
  "nbformat_minor": 0,
  "metadata": {
    "colab": {
      "provenance": [],
      "toc_visible": true,
      "gpuType": "T4",
      "include_colab_link": true
    },
    "kernelspec": {
      "name": "python3",
      "display_name": "Python 3"
    },
    "accelerator": "GPU"
  },
  "cells": [
    {
      "cell_type": "markdown",
      "metadata": {
        "id": "view-in-github",
        "colab_type": "text"
      },
      "source": [
        "<a href=\"https://colab.research.google.com/github/sedaoturak/Quantum_Espresso_Colab/blob/main/Quantum_Espresso_Colab.ipynb\" target=\"_parent\"><img src=\"https://colab.research.google.com/assets/colab-badge.svg\" alt=\"Open In Colab\"/></a>"
      ]
    },
    {
      "cell_type": "markdown",
      "metadata": {
        "id": "IJD9ZrhUbG8g"
      },
      "source": [
        "# Install the Quantum Espresso Binary"
      ]
    },
    {
      "cell_type": "code",
      "metadata": {
        "id": "7imWdEV1V-Fg"
      },
      "source": [
        "%%capture\n",
        "# Clone the QE git\n",
        "!git clone https://github.com/QEF/q-e.git\n",
        "# Install the dependencies\n",
        "!apt-get install -y libfftw3-3 libfftw3-dev libfftw3-doc\n",
        "# enter the q-e folder\n",
        "%cd q-e\n",
        "# run the configure file\n",
        "!DFLAGS='-D__OPENMP -D__FFTW3 -D__MPI -D__SCALAPACK' FFT_LIBS='-lfftw3'  ./configure --enable-openmp\n",
        "# computation time ~1 minute"
      ],
      "execution_count": null,
      "outputs": []
    },
    {
      "cell_type": "markdown",
      "metadata": {
        "id": "l-nZcqsubveu"
      },
      "source": [
        "Run the cell to make `pw.x` binary\n",
        "If you need to make any other binary like `dos.x` or `bands.x`. Replace the `pw` with `dos` or `bands`"
      ]
    },
    {
      "cell_type": "code",
      "metadata": {
        "id": "nwarCLtjWgmd"
      },
      "source": [
        "%%capture \n",
        "!make pw #computation time ~5-7 minutes"
      ],
      "execution_count": null,
      "outputs": []
    },
    {
      "cell_type": "markdown",
      "metadata": {
        "id": "M4TVSZEPcogl"
      },
      "source": [
        "Create a folder named \"Quantum Files\" to download and keep all the files needed including the input files and pseudopotential files"
      ]
    },
    {
      "cell_type": "code",
      "metadata": {
        "id": "r90LCXv1ZydE",
        "outputId": "d95c7ebc-a2ef-4671-cfbf-4ea0a919df41",
        "colab": {
          "base_uri": "https://localhost:8080/"
        }
      },
      "source": [
        "# Navigating into your folder.\n",
        "%cd /content/Quantum_Files/ "
      ],
      "execution_count": null,
      "outputs": [
        {
          "output_type": "stream",
          "name": "stdout",
          "text": [
            "/content/Quantum_Files\n"
          ]
        }
      ]
    },
    {
      "cell_type": "markdown",
      "metadata": {
        "id": "RDx8cJlddYA6"
      },
      "source": [
        "# Run the DFT code\n",
        "\n",
        "Note: Check the directories for pseudopotential file and output file!"
      ]
    },
    {
      "cell_type": "code",
      "metadata": {
        "id": "WTOSK0QvZ0s8"
      },
      "source": [
        "! /content/q-e/bin/pw.x  -in si.scf.in > si.scf.out"
      ],
      "execution_count": null,
      "outputs": []
    },
    {
      "cell_type": "markdown",
      "metadata": {
        "id": "7CvqvzNsdfTe"
      },
      "source": [
        "# See the output file"
      ]
    },
    {
      "cell_type": "code",
      "metadata": {
        "id": "xiIzqeKbanJu",
        "colab": {
          "base_uri": "https://localhost:8080/"
        },
        "outputId": "cb1937a3-3acb-4432-a975-a09cd28dc404"
      },
      "source": [
        "!cat si.scf.out"
      ],
      "execution_count": null,
      "outputs": [
        {
          "output_type": "stream",
          "name": "stdout",
          "text": [
            "\n",
            "     Program PWSCF v.7.2 starts on  3Jun2023 at 15:50:55 \n",
            "\n",
            "     This program is part of the open-source Quantum ESPRESSO suite\n",
            "     for quantum simulation of materials; please cite\n",
            "         \"P. Giannozzi et al., J. Phys.:Condens. Matter 21 395502 (2009);\n",
            "         \"P. Giannozzi et al., J. Phys.:Condens. Matter 29 465901 (2017);\n",
            "         \"P. Giannozzi et al., J. Chem. Phys. 152 154105 (2020);\n",
            "          URL http://www.quantum-espresso.org\", \n",
            "     in publications or presentations arising from this work. More details at\n",
            "     http://www.quantum-espresso.org/quote\n",
            "\n",
            "     Parallel version (MPI & OpenMP), running on       2 processor cores\n",
            "     Number of MPI processes:                 1\n",
            "     Threads/MPI process:                     2\n",
            "\n",
            "     MPI processes distributed on     1 nodes\n",
            "     6652 MiB available memory on the printing compute node when the environment starts\n",
            "\n",
            "     Reading input from si.scf.in\n",
            "\n",
            "     Current dimensions of program PWSCF are:\n",
            "     Max number of different atomic species (ntypx) = 10\n",
            "     Max number of k-points (npk) =  40000\n",
            "     Max angular momentum in pseudopotentials (lmaxx) =  4\n",
            "\n",
            "     Subspace diagonalization in iterative solution of the eigenvalue problem:\n",
            "     a serial algorithm will be used\n",
            "\n",
            "\n",
            "     G-vector sticks info\n",
            "     --------------------\n",
            "     sticks:   dense  smooth     PW     G-vecs:    dense   smooth      PW\n",
            "     Sum         313     313    109                 3719     3719     725\n",
            "\n",
            "     Using Slab Decomposition\n",
            "\n",
            "\n",
            "\n",
            "     bravais-lattice index     =            2\n",
            "     lattice parameter (alat)  =      10.7000  a.u.\n",
            "     unit-cell volume          =     306.2607 (a.u.)^3\n",
            "     number of atoms/cell      =            2\n",
            "     number of atomic types    =            1\n",
            "     number of electrons       =         8.00\n",
            "     number of Kohn-Sham states=            4\n",
            "     kinetic-energy cutoff     =      20.0000  Ry\n",
            "     charge density cutoff     =      80.0000  Ry\n",
            "     scf convergence threshold =      1.0E-06\n",
            "     mixing beta               =       0.7000\n",
            "     number of iterations used =            8  plain     mixing\n",
            "     Exchange-correlation=  SLA  PZ   NOGX NOGC\n",
            "                           (   1   1   0   0   0   0   0)\n",
            "\n",
            "     celldm(1)=  10.700000  celldm(2)=   0.000000  celldm(3)=   0.000000\n",
            "     celldm(4)=   0.000000  celldm(5)=   0.000000  celldm(6)=   0.000000\n",
            "\n",
            "     crystal axes: (cart. coord. in units of alat)\n",
            "               a(1) = (  -0.500000   0.000000   0.500000 )  \n",
            "               a(2) = (   0.000000   0.500000   0.500000 )  \n",
            "               a(3) = (  -0.500000   0.500000   0.000000 )  \n",
            "\n",
            "     reciprocal axes: (cart. coord. in units 2 pi/alat)\n",
            "               b(1) = ( -1.000000 -1.000000  1.000000 )  \n",
            "               b(2) = (  1.000000  1.000000  1.000000 )  \n",
            "               b(3) = ( -1.000000  1.000000 -1.000000 )  \n",
            "\n",
            "\n",
            "     PseudoPot. # 1 for Si read from file:\n",
            "     /content/Quantum_Files/Si.pz-vbc.UPF\n",
            "     MD5 check sum: 6dfa03ddd5817404712e03e4d12deb78\n",
            "     Pseudo is Norm-conserving, Zval =  4.0\n",
            "     Generated by new atomic code, or converted to UPF format\n",
            "     Using radial grid of  431 points,  2 beta functions with: \n",
            "                l(1) =   0\n",
            "                l(2) =   1\n",
            "\n",
            "     atomic species   valence    mass     pseudopotential\n",
            "        Si             4.00    28.08600     Si( 1.00)\n",
            "\n",
            "     48 Sym. Ops., with inversion, found (24 have fractional translation)\n",
            "\n",
            "\n",
            "\n",
            "   Cartesian axes\n",
            "\n",
            "     site n.     atom                  positions (alat units)\n",
            "         1           Si  tau(   1) = (   0.0000000   0.0000000   0.0000000  )\n",
            "         2           Si  tau(   2) = (   0.2500000   0.2500000   0.2500000  )\n",
            "\n",
            "     number of k points=    10\n",
            "                       cart. coord. in units 2pi/alat\n",
            "        k(    1) = (  -0.1250000   0.1250000   0.1250000), wk =   0.0625000\n",
            "        k(    2) = (  -0.3750000   0.3750000  -0.1250000), wk =   0.1875000\n",
            "        k(    3) = (   0.3750000  -0.3750000   0.6250000), wk =   0.1875000\n",
            "        k(    4) = (   0.1250000  -0.1250000   0.3750000), wk =   0.1875000\n",
            "        k(    5) = (  -0.1250000   0.6250000   0.1250000), wk =   0.1875000\n",
            "        k(    6) = (   0.6250000  -0.1250000   0.8750000), wk =   0.3750000\n",
            "        k(    7) = (   0.3750000   0.1250000   0.6250000), wk =   0.3750000\n",
            "        k(    8) = (  -0.1250000  -0.8750000   0.1250000), wk =   0.1875000\n",
            "        k(    9) = (  -0.3750000   0.3750000   0.3750000), wk =   0.0625000\n",
            "        k(   10) = (   0.3750000  -0.3750000   1.1250000), wk =   0.1875000\n",
            "\n",
            "     Dense  grid:     3719 G-vectors     FFT dimensions: (  24,  24,  24)\n",
            "\n",
            "     Estimated max dynamical RAM per process >       3.04 MB\n",
            "\n",
            "     Initial potential from superposition of free atoms\n",
            "\n",
            "     starting charge       7.9990, renormalised to       8.0000\n",
            "     Starting wfcs are    8 randomized atomic wfcs\n",
            "\n",
            "     total cpu time spent up to now is        0.6 secs\n",
            "\n",
            "     Self-consistent Calculation\n",
            "\n",
            "     iteration #  1     ecut=    20.00 Ry     beta= 0.70\n",
            "     Davidson diagonalization with overlap\n",
            "     ethr =  1.00E-02,  avg # of iterations =  2.0\n",
            "\n",
            "     Threshold (ethr) on eigenvalues was too large:\n",
            "     Diagonalizing with lowered threshold\n",
            "\n",
            "     Davidson diagonalization with overlap\n",
            "     ethr =  5.33E-04,  avg # of iterations =  1.1\n",
            "\n",
            "     total cpu time spent up to now is        0.7 secs\n",
            "\n",
            "     total energy              =     -15.83067980 Ry\n",
            "     estimated scf accuracy    <       0.04701189 Ry\n",
            "\n",
            "     iteration #  2     ecut=    20.00 Ry     beta= 0.70\n",
            "     Davidson diagonalization with overlap\n",
            "     ethr =  5.88E-04,  avg # of iterations =  1.0\n",
            "\n",
            "     total cpu time spent up to now is        0.7 secs\n",
            "\n",
            "     total energy              =     -15.83241614 Ry\n",
            "     estimated scf accuracy    <       0.00213687 Ry\n",
            "\n",
            "     iteration #  3     ecut=    20.00 Ry     beta= 0.70\n",
            "     Davidson diagonalization with overlap\n",
            "     ethr =  2.67E-05,  avg # of iterations =  2.0\n",
            "\n",
            "     total cpu time spent up to now is        0.8 secs\n",
            "\n",
            "     total energy              =     -15.83269969 Ry\n",
            "     estimated scf accuracy    <       0.00004693 Ry\n",
            "\n",
            "     iteration #  4     ecut=    20.00 Ry     beta= 0.70\n",
            "     Davidson diagonalization with overlap\n",
            "     ethr =  5.87E-07,  avg # of iterations =  4.5\n",
            "\n",
            "     total cpu time spent up to now is        0.8 secs\n",
            "\n",
            "     End of self-consistent calculation\n",
            "\n",
            "          k =-0.1250 0.1250 0.1250 (   471 PWs)   bands (ev):\n",
            "\n",
            "    -6.1175   3.2314   4.5708   4.5708\n",
            "\n",
            "          k =-0.3750 0.3750-0.1250 (   463 PWs)   bands (ev):\n",
            "\n",
            "    -5.1835   0.4160   2.7391   4.1168\n",
            "\n",
            "          k = 0.3750-0.3750 0.6250 (   462 PWs)   bands (ev):\n",
            "\n",
            "    -4.1688  -1.4558   2.7163   3.4206\n",
            "\n",
            "          k = 0.1250-0.1250 0.3750 (   470 PWs)   bands (ev):\n",
            "\n",
            "    -5.6360   1.6680   3.6611   3.6686\n",
            "\n",
            "          k =-0.1250 0.6250 0.1250 (   458 PWs)   bands (ev):\n",
            "\n",
            "    -4.6960   0.0171   2.4418   2.8593\n",
            "\n",
            "          k = 0.6250-0.1250 0.8750 (   463 PWs)   bands (ev):\n",
            "\n",
            "    -3.2226  -1.7901   1.2345   2.2115\n",
            "\n",
            "          k = 0.3750 0.1250 0.6250 (   461 PWs)   bands (ev):\n",
            "\n",
            "    -4.3264  -0.7357   1.8378   3.1087\n",
            "\n",
            "          k =-0.1250-0.8750 0.1250 (   460 PWs)   bands (ev):\n",
            "\n",
            "    -3.3583  -1.7112   1.7844   2.4280\n",
            "\n",
            "          k =-0.3750 0.3750 0.3750 (   468 PWs)   bands (ev):\n",
            "\n",
            "    -4.7975  -0.7289   3.8369   3.8369\n",
            "\n",
            "          k = 0.3750-0.3750 1.1250 (   456 PWs)   bands (ev):\n",
            "\n",
            "    -3.7151  -1.4562   1.2579   3.1366\n",
            "\n",
            "     highest occupied level (ev):     4.5708\n",
            "\n",
            "!    total energy              =     -15.83273079 Ry\n",
            "     estimated scf accuracy    <       0.00000002 Ry\n",
            "\n",
            "     The total energy is the sum of the following terms:\n",
            "     one-electron contribution =       3.74260842 Ry\n",
            "     hartree contribution      =       1.20012096 Ry\n",
            "     xc contribution           =      -4.66540994 Ry\n",
            "     ewald contribution        =     -16.11005023 Ry\n",
            "\n",
            "     convergence has been achieved in   4 iterations\n",
            "\n",
            "     Writing all to output data dir /content/Quantum_Files/silicon.save/\n",
            "\n",
            "     init_run     :      0.48s CPU      0.52s WALL (       1 calls)\n",
            "     electrons    :      0.45s CPU      0.24s WALL (       1 calls)\n",
            "\n",
            "     Called by init_run:\n",
            "     wfcinit      :      0.21s CPU      0.24s WALL (       1 calls)\n",
            "     potinit      :      0.00s CPU      0.00s WALL (       1 calls)\n",
            "     hinit0       :      0.26s CPU      0.27s WALL (       1 calls)\n",
            "\n",
            "     Called by electrons:\n",
            "     c_bands      :      0.37s CPU      0.20s WALL (       5 calls)\n",
            "     sum_band     :      0.07s CPU      0.03s WALL (       5 calls)\n",
            "     v_of_rho     :      0.01s CPU      0.00s WALL (       5 calls)\n",
            "     mix_rho      :      0.01s CPU      0.01s WALL (       5 calls)\n",
            "\n",
            "     Called by c_bands:\n",
            "     init_us_2    :      0.01s CPU      0.01s WALL (     110 calls)\n",
            "     init_us_2:cp :      0.01s CPU      0.01s WALL (     110 calls)\n",
            "     cegterg      :      0.36s CPU      0.19s WALL (      50 calls)\n",
            "\n",
            "     Called by *egterg:\n",
            "     cdiaghg      :      0.01s CPU      0.07s WALL (     146 calls)\n",
            "     h_psi        :      0.53s CPU      0.35s WALL (     166 calls)\n",
            "     g_psi        :      0.00s CPU      0.00s WALL (     106 calls)\n",
            "\n",
            "     Called by h_psi:\n",
            "     h_psi:calbec :      0.02s CPU      0.02s WALL (     166 calls)\n",
            "     vloc_psi     :      0.50s CPU      0.32s WALL (     166 calls)\n",
            "     add_vuspsi   :      0.01s CPU      0.01s WALL (     166 calls)\n",
            "\n",
            "     General routines\n",
            "     calbec       :      0.02s CPU      0.01s WALL (     166 calls)\n",
            "     fft          :      0.19s CPU      0.20s WALL (      15 calls)\n",
            "     ffts         :      0.00s CPU      0.00s WALL (       5 calls)\n",
            "     fftw         :      0.49s CPU      0.30s WALL (    1422 calls)\n",
            "\n",
            "     Parallel routines\n",
            "\n",
            "     PWSCF        :      0.96s CPU      0.83s WALL\n",
            "\n",
            "\n",
            "   This run was terminated on:  15:50:55   3Jun2023            \n",
            "\n",
            "=------------------------------------------------------------------------------=\n",
            "   JOB DONE.\n",
            "=------------------------------------------------------------------------------=\n"
          ]
        }
      ]
    },
    {
      "cell_type": "code",
      "source": [
        "f = open(\"/content/Quantum_Files/si.scf.out\", \"r\")\n",
        "for l in f.readlines():\n",
        "  if 'total energy' in l:\n",
        "    print(l)"
      ],
      "metadata": {
        "colab": {
          "base_uri": "https://localhost:8080/"
        },
        "id": "FuPgBLAsfJkq",
        "outputId": "1408a7e5-f589-4c48-df47-05084ef6ef79"
      },
      "execution_count": null,
      "outputs": [
        {
          "output_type": "stream",
          "name": "stdout",
          "text": [
            "     total energy              =     -15.83067980 Ry\n",
            "\n",
            "     total energy              =     -15.83241614 Ry\n",
            "\n",
            "     total energy              =     -15.83269969 Ry\n",
            "\n",
            "!    total energy              =     -15.83273079 Ry\n",
            "\n",
            "     The total energy is the sum of the following terms:\n",
            "\n"
          ]
        }
      ]
    },
    {
      "cell_type": "code",
      "source": [
        "!grep -e \"total energy\" -e estimate si.scf.out"
      ],
      "metadata": {
        "colab": {
          "base_uri": "https://localhost:8080/"
        },
        "id": "nAwPVzJe9tdd",
        "outputId": "d547429a-6f4e-4007-987e-b8655f260f30"
      },
      "execution_count": null,
      "outputs": [
        {
          "output_type": "stream",
          "name": "stdout",
          "text": [
            "     total energy              =     -15.83067980 Ry\n",
            "     estimated scf accuracy    <       0.04701189 Ry\n",
            "     total energy              =     -15.83241614 Ry\n",
            "     estimated scf accuracy    <       0.00213687 Ry\n",
            "     total energy              =     -15.83269969 Ry\n",
            "     estimated scf accuracy    <       0.00004693 Ry\n",
            "!    total energy              =     -15.83273079 Ry\n",
            "     estimated scf accuracy    <       0.00000002 Ry\n",
            "     The total energy is the sum of the following terms:\n"
          ]
        }
      ]
    },
    {
      "cell_type": "code",
      "source": [
        "total_energies = []\n",
        "f = open(\"/content/Quantum_Files/si.scf.out\", \"r\")\n",
        "for l in f.readlines():\n",
        "  if 'total energy' in l:\n",
        "\n",
        "    for i in l.split():\n",
        "        try:\n",
        "            #trying to convert i to float\n",
        "            result = float(i)\n",
        "            #break the loop if i is the first string that's successfully converted\n",
        "            break\n",
        "        except:\n",
        "            continue\n",
        "    total_energies.append(result)        "
      ],
      "metadata": {
        "id": "6p_UKoSeQZBn"
      },
      "execution_count": null,
      "outputs": []
    },
    {
      "cell_type": "code",
      "source": [
        "import matplotlib.pyplot as plt\n",
        "\n",
        "plt.plot(total_energies)"
      ],
      "metadata": {
        "colab": {
          "base_uri": "https://localhost:8080/",
          "height": 462
        },
        "id": "62Ib9JT7gh5R",
        "outputId": "a3bda79f-b95c-43a1-c9a3-62b022b913ac"
      },
      "execution_count": null,
      "outputs": [
        {
          "output_type": "execute_result",
          "data": {
            "text/plain": [
              "[<matplotlib.lines.Line2D at 0x7f3c34144c10>]"
            ]
          },
          "metadata": {},
          "execution_count": 9
        },
        {
          "output_type": "display_data",
          "data": {
            "text/plain": [
              "<Figure size 640x480 with 1 Axes>"
            ],
            "image/png": "[encoded data removed]"
          },
          "metadata": {}
        }
      ]
    },
    {
      "cell_type": "code",
      "source": [],
      "metadata": {
        "id": "KmY-EosniUPu"
      },
      "execution_count": null,
      "outputs": []
    },
    {
      "cell_type": "code",
      "source": [
        "f = open(\"/content/Quantum_Files/si.scf.in\", \"r\")\n",
        "for l in f.readlines():\n",
        "  if 'ecutwfc' in l:\n",
        "    for i in l.split():\n",
        "        try:\n",
        "            #trying to convert i to float\n",
        "            result = float(i)\n",
        "            #break the loop if i is the first string that's successfully converted\n",
        "            break\n",
        "        except:\n",
        "            continue\n",
        "    print(result)"
      ],
      "metadata": {
        "colab": {
          "base_uri": "https://localhost:8080/"
        },
        "id": "Rj6dVV8YjFaR",
        "outputId": "6108f473-4af0-4f55-c3d1-0fcf2d9b7ce4"
      },
      "execution_count": null,
      "outputs": [
        {
          "output_type": "stream",
          "name": "stdout",
          "text": [
            "-15.83273079\n"
          ]
        }
      ]
    },
    {
      "cell_type": "code",
      "source": [],
      "metadata": {
        "id": "E-BZTxWJF1vw"
      },
      "execution_count": null,
      "outputs": []
    }
  ]
}